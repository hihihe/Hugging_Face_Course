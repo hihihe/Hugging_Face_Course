{
 "cells": [
  {
   "cell_type": "markdown",
   "metadata": {},
   "source": [
    "![](https://chushi123.oss-cn-beijing.aliyuncs.com/img/202202271331129.png)"
   ]
  },
  {
   "cell_type": "markdown",
   "metadata": {},
   "source": [
    "# 加载数据 load_dataset"
   ]
  },
  {
   "cell_type": "markdown",
   "metadata": {},
   "source": [
    "TSV文件是CSV文件的一种变体，它使用制表符而不是逗号作为分隔符，我们可以通过使用csv加载脚本并在函数中指定delimiter参数来加载这些文件，load_dataset()如下所示："
   ]
  },
  {
   "cell_type": "code",
   "execution_count": 1,
   "metadata": {
    "execution": {
     "iopub.execute_input": "2022-02-27T14:17:19.178879Z",
     "iopub.status.busy": "2022-02-27T14:17:19.178879Z",
     "iopub.status.idle": "2022-02-27T14:17:21.934249Z",
     "shell.execute_reply": "2022-02-27T14:17:21.933300Z",
     "shell.execute_reply.started": "2022-02-27T14:17:19.178879Z"
    },
    "id": "E03tajJQij3S",
    "tags": []
   },
   "outputs": [
    {
     "name": "stderr",
     "output_type": "stream",
     "text": [
      "Using custom data configuration default-a01bd41b65dcc0bc\n",
      "Reusing dataset csv (C:\\Users\\ls\\.cache\\huggingface\\datasets\\csv\\default-a01bd41b65dcc0bc\\0.0.0\\6b9057d9e23d9d8a2f05b985917a0da84d70c5dae3d22ddd8a3f22fb01c69d9e)\n"
     ]
    },
    {
     "data": {
      "application/vnd.jupyter.widget-view+json": {
       "model_id": "d0ea1d69f18546e78bd6165d94ded03e",
       "version_major": 2,
       "version_minor": 0
      },
      "text/plain": [
       "  0%|          | 0/2 [00:00<?, ?it/s]"
      ]
     },
     "metadata": {},
     "output_type": "display_data"
    }
   ],
   "source": [
    "from datasets import load_dataset\n",
    "\n",
    "data_files = {\n",
    "    \"train\": \"./data/drugsComTrain_raw.tsv\",\n",
    "    \"test\": \"./data/drugsComTest_raw.tsv\",\n",
    "}\n",
    "# \\t is the tab character in Python\n",
    "drug_dataset = load_dataset(\"csv\", data_files=data_files, delimiter=\"\\t\")"
   ]
  },
  {
   "cell_type": "markdown",
   "metadata": {},
   "source": [
    "# 打乱数据  shuffle，选择数据 select"
   ]
  },
  {
   "cell_type": "markdown",
   "metadata": {},
   "source": [
    "1. Dataset.shuffle()打乱数据顺序，出于可重复性目的，我们已将种子固定。\n",
    "2. Dataset.select()选择数据，参数为一个可迭代的索引。"
   ]
  },
  {
   "cell_type": "code",
   "execution_count": 2,
   "metadata": {
    "execution": {
     "iopub.execute_input": "2022-02-27T14:17:21.935250Z",
     "iopub.status.busy": "2022-02-27T14:17:21.935250Z",
     "iopub.status.idle": "2022-02-27T14:17:21.964188Z",
     "shell.execute_reply": "2022-02-27T14:17:21.963186Z",
     "shell.execute_reply.started": "2022-02-27T14:17:21.935250Z"
    },
    "id": "DhFg55zXij3S",
    "outputId": "46ed556c-00cd-4889-9958-ae7d257844c0",
    "tags": []
   },
   "outputs": [
    {
     "name": "stderr",
     "output_type": "stream",
     "text": [
      "Loading cached shuffled indices for dataset at C:\\Users\\ls\\.cache\\huggingface\\datasets\\csv\\default-a01bd41b65dcc0bc\\0.0.0\\6b9057d9e23d9d8a2f05b985917a0da84d70c5dae3d22ddd8a3f22fb01c69d9e\\cache-f5b3e362d7ff485e.arrow\n"
     ]
    },
    {
     "data": {
      "text/plain": [
       "{'Unnamed: 0': [87571, 178045, 80482],\n",
       " 'drugName': ['Naproxen', 'Duloxetine', 'Mobic'],\n",
       " 'condition': ['Gout, Acute', 'ibromyalgia', 'Inflammatory Conditions'],\n",
       " 'review': ['\"like the previous person mention, I&#039;m a strong believer of aleve, it works faster for my gout than the prescription meds I take. No more going to the doctor for refills.....Aleve works!\"',\n",
       "  '\"I have taken Cymbalta for about a year and a half for fibromyalgia pain. It is great\\r\\nas a pain reducer and an anti-depressant, however, the side effects outweighed \\r\\nany benefit I got from it. I had trouble with restlessness, being tired constantly,\\r\\ndizziness, dry mouth, numbness and tingling in my feet, and horrible sweating. I am\\r\\nbeing weaned off of it now. Went from 60 mg to 30mg and now to 15 mg. I will be\\r\\noff completely in about a week. The fibro pain is coming back, but I would rather deal with it than the side effects.\"',\n",
       "  '\"I have been taking Mobic for over a year with no side effects other than an elevated blood pressure.  I had severe knee and ankle pain which completely went away after taking Mobic.  I attempted to stop the medication however pain returned after a few days.\"'],\n",
       " 'rating': [9.0, 3.0, 10.0],\n",
       " 'date': ['September 2, 2015', 'November 7, 2011', 'June 5, 2013'],\n",
       " 'usefulCount': [36, 13, 128]}"
      ]
     },
     "execution_count": 2,
     "metadata": {},
     "output_type": "execute_result"
    }
   ],
   "source": [
    "drug_sample = drug_dataset[\"train\"].shuffle(seed=42).select(range(1000))\n",
    "# Peek at the first few examples\n",
    "drug_sample[:3]"
   ]
  },
  {
   "cell_type": "code",
   "execution_count": 3,
   "metadata": {
    "execution": {
     "iopub.execute_input": "2022-02-27T14:17:21.965188Z",
     "iopub.status.busy": "2022-02-27T14:17:21.965188Z",
     "iopub.status.idle": "2022-02-27T14:17:21.979187Z",
     "shell.execute_reply": "2022-02-27T14:17:21.979187Z",
     "shell.execute_reply.started": "2022-02-27T14:17:21.965188Z"
    },
    "tags": []
   },
   "outputs": [
    {
     "data": {
      "text/plain": [
       "dict_keys(['train', 'test'])"
      ]
     },
     "execution_count": 3,
     "metadata": {},
     "output_type": "execute_result"
    }
   ],
   "source": [
    "drug_dataset.keys()"
   ]
  },
  {
   "cell_type": "markdown",
   "metadata": {},
   "source": [
    "# 数据去重 unique"
   ]
  },
  {
   "cell_type": "markdown",
   "metadata": {},
   "source": [
    "使用该Dataset.unique()函数来验证ID的数量是否等于训练集/测试集的行数"
   ]
  },
  {
   "cell_type": "code",
   "execution_count": 4,
   "metadata": {
    "execution": {
     "iopub.execute_input": "2022-02-27T14:17:25.471771Z",
     "iopub.status.busy": "2022-02-27T14:17:25.470811Z",
     "iopub.status.idle": "2022-02-27T14:17:25.596850Z",
     "shell.execute_reply": "2022-02-27T14:17:25.595933Z",
     "shell.execute_reply.started": "2022-02-27T14:17:25.470811Z"
    },
    "id": "MZ8emIcRij3T",
    "tags": []
   },
   "outputs": [],
   "source": [
    "for split in drug_dataset.keys():\n",
    "    assert len(drug_dataset[split]) == len(drug_dataset[split].unique(\"Unnamed: 0\"))"
   ]
  },
  {
   "cell_type": "markdown",
   "metadata": {},
   "source": [
    "# 修改列名 rename_column"
   ]
  },
  {
   "cell_type": "code",
   "execution_count": 5,
   "metadata": {
    "execution": {
     "iopub.execute_input": "2022-02-27T14:17:26.608818Z",
     "iopub.status.busy": "2022-02-27T14:17:26.607816Z",
     "iopub.status.idle": "2022-02-27T14:17:26.629840Z",
     "shell.execute_reply": "2022-02-27T14:17:26.629840Z",
     "shell.execute_reply.started": "2022-02-27T14:17:26.608818Z"
    },
    "id": "OMzcmaF3ij3U",
    "outputId": "c457ac08-b944-4c97-e43b-cf00567f8792",
    "tags": []
   },
   "outputs": [
    {
     "data": {
      "text/plain": [
       "DatasetDict({\n",
       "    train: Dataset({\n",
       "        features: ['patient_id', 'drugName', 'condition', 'review', 'rating', 'date', 'usefulCount'],\n",
       "        num_rows: 161297\n",
       "    })\n",
       "    test: Dataset({\n",
       "        features: ['patient_id', 'drugName', 'condition', 'review', 'rating', 'date', 'usefulCount'],\n",
       "        num_rows: 53766\n",
       "    })\n",
       "})"
      ]
     },
     "execution_count": 5,
     "metadata": {},
     "output_type": "execute_result"
    }
   ],
   "source": [
    "drug_dataset = drug_dataset.rename_column(\n",
    "    original_column_name=\"Unnamed: 0\", new_column_name=\"patient_id\"\n",
    ")\n",
    "drug_dataset"
   ]
  },
  {
   "cell_type": "markdown",
   "metadata": {},
   "source": [
    "# 将condition字段内容都变成小写"
   ]
  },
  {
   "cell_type": "code",
   "execution_count": 6,
   "metadata": {
    "execution": {
     "iopub.execute_input": "2022-02-27T14:17:27.759997Z",
     "iopub.status.busy": "2022-02-27T14:17:27.758997Z",
     "iopub.status.idle": "2022-02-27T14:17:27.768078Z",
     "shell.execute_reply": "2022-02-27T14:17:27.768078Z",
     "shell.execute_reply.started": "2022-02-27T14:17:27.759997Z"
    },
    "id": "d5TQJWw_ij3V",
    "outputId": "67f396d1-95ff-462f-831a-8059e9028bce",
    "tags": []
   },
   "outputs": [],
   "source": [
    "# 将‘condition’字段内容都变成小写\n",
    "def lowercase_condition(example):\n",
    "    return {\"condition\": example[\"condition\"].lower()}\n",
    "\n",
    "\n",
    "# 现在调用这函数会报错，因为有的数据的‘condition’字段为空。None不能调用lower()\n",
    "# drug_dataset.map(lowercase_condition)"
   ]
  },
  {
   "cell_type": "markdown",
   "metadata": {},
   "source": [
    "# 过滤掉condition字段为空的数据"
   ]
  },
  {
   "cell_type": "code",
   "execution_count": 7,
   "metadata": {
    "execution": {
     "iopub.execute_input": "2022-02-27T14:17:28.912452Z",
     "iopub.status.busy": "2022-02-27T14:17:28.912452Z",
     "iopub.status.idle": "2022-02-27T14:17:28.922451Z",
     "shell.execute_reply": "2022-02-27T14:17:28.922451Z",
     "shell.execute_reply.started": "2022-02-27T14:17:28.912452Z"
    },
    "id": "z_pGLfM2ij3V",
    "tags": []
   },
   "outputs": [],
   "source": [
    "def filter_nones(x):\n",
    "    return x[\"condition\"] is not None"
   ]
  },
  {
   "cell_type": "markdown",
   "metadata": {},
   "source": [
    "## 匿名函数"
   ]
  },
  {
   "cell_type": "code",
   "execution_count": 8,
   "metadata": {
    "execution": {
     "iopub.execute_input": "2022-02-27T14:17:29.773339Z",
     "iopub.status.busy": "2022-02-27T14:17:29.772339Z",
     "iopub.status.idle": "2022-02-27T14:17:29.781338Z",
     "shell.execute_reply": "2022-02-27T14:17:29.781338Z",
     "shell.execute_reply.started": "2022-02-27T14:17:29.773339Z"
    },
    "id": "LZPNpr-Kij3W",
    "outputId": "cb559167-e675-478e-ca0d-95b5482c0f20",
    "tags": []
   },
   "outputs": [
    {
     "data": {
      "text/plain": [
       "9"
      ]
     },
     "execution_count": 8,
     "metadata": {},
     "output_type": "execute_result"
    }
   ],
   "source": [
    "(lambda x: x * x)(3)"
   ]
  },
  {
   "cell_type": "code",
   "execution_count": 9,
   "metadata": {
    "execution": {
     "iopub.execute_input": "2022-02-27T14:17:30.238997Z",
     "iopub.status.busy": "2022-02-27T14:17:30.238997Z",
     "iopub.status.idle": "2022-02-27T14:17:30.248008Z",
     "shell.execute_reply": "2022-02-27T14:17:30.248008Z",
     "shell.execute_reply.started": "2022-02-27T14:17:30.238997Z"
    },
    "id": "SamtSmz0ij3X",
    "outputId": "8e885b4d-6664-4b0e-e33d-aad594db4130",
    "tags": []
   },
   "outputs": [
    {
     "data": {
      "text/plain": [
       "16.0"
      ]
     },
     "execution_count": 9,
     "metadata": {},
     "output_type": "execute_result"
    }
   ],
   "source": [
    "(lambda base, height: 0.5 * base * height)(4, 8)"
   ]
  },
  {
   "cell_type": "markdown",
   "metadata": {},
   "source": [
    "## 过滤数据 filter"
   ]
  },
  {
   "cell_type": "code",
   "execution_count": 10,
   "metadata": {
    "execution": {
     "iopub.execute_input": "2022-02-27T14:17:31.371340Z",
     "iopub.status.busy": "2022-02-27T14:17:31.371340Z",
     "iopub.status.idle": "2022-02-27T14:17:31.389375Z",
     "shell.execute_reply": "2022-02-27T14:17:31.389375Z",
     "shell.execute_reply.started": "2022-02-27T14:17:31.371340Z"
    },
    "id": "dK4P10dEij3Y",
    "tags": []
   },
   "outputs": [
    {
     "name": "stderr",
     "output_type": "stream",
     "text": [
      "Loading cached processed dataset at C:\\Users\\ls\\.cache\\huggingface\\datasets\\csv\\default-a01bd41b65dcc0bc\\0.0.0\\6b9057d9e23d9d8a2f05b985917a0da84d70c5dae3d22ddd8a3f22fb01c69d9e\\cache-919d91a03d003e4b.arrow\n",
      "Loading cached processed dataset at C:\\Users\\ls\\.cache\\huggingface\\datasets\\csv\\default-a01bd41b65dcc0bc\\0.0.0\\6b9057d9e23d9d8a2f05b985917a0da84d70c5dae3d22ddd8a3f22fb01c69d9e\\cache-8e67ef41d36fd171.arrow\n"
     ]
    }
   ],
   "source": [
    "drug_dataset = drug_dataset.filter(lambda x: x[\"condition\"] is not None)"
   ]
  },
  {
   "cell_type": "markdown",
   "metadata": {},
   "source": [
    "## 去除掉空数据后，可以调用map函数将condition字段内容都变成小写"
   ]
  },
  {
   "cell_type": "markdown",
   "metadata": {},
   "source": [
    "> map()对数据集的每一行或者每batch的数据应用某个函数。"
   ]
  },
  {
   "cell_type": "code",
   "execution_count": 11,
   "metadata": {
    "execution": {
     "iopub.execute_input": "2022-02-27T14:17:32.827644Z",
     "iopub.status.busy": "2022-02-27T14:17:32.827644Z",
     "iopub.status.idle": "2022-02-27T14:17:33.049710Z",
     "shell.execute_reply": "2022-02-27T14:17:33.049710Z",
     "shell.execute_reply.started": "2022-02-27T14:17:32.827644Z"
    },
    "id": "OkSrsKjvij3Y",
    "outputId": "dbc2241d-135b-4830-e675-bcc8943426fc",
    "tags": []
   },
   "outputs": [
    {
     "name": "stderr",
     "output_type": "stream",
     "text": [
      "Loading cached processed dataset at C:\\Users\\ls\\.cache\\huggingface\\datasets\\csv\\default-a01bd41b65dcc0bc\\0.0.0\\6b9057d9e23d9d8a2f05b985917a0da84d70c5dae3d22ddd8a3f22fb01c69d9e\\cache-67d8981cc212cd65.arrow\n",
      "Loading cached processed dataset at C:\\Users\\ls\\.cache\\huggingface\\datasets\\csv\\default-a01bd41b65dcc0bc\\0.0.0\\6b9057d9e23d9d8a2f05b985917a0da84d70c5dae3d22ddd8a3f22fb01c69d9e\\cache-1472924cb945031d.arrow\n"
     ]
    },
    {
     "data": {
      "text/plain": [
       "['left ventricular dysfunction', 'adhd', 'birth control']"
      ]
     },
     "execution_count": 11,
     "metadata": {},
     "output_type": "execute_result"
    }
   ],
   "source": [
    "drug_dataset = drug_dataset.map(lowercase_condition)\n",
    "# Check that lowercasing worked\n",
    "drug_dataset[\"train\"][\"condition\"][:3]"
   ]
  },
  {
   "cell_type": "markdown",
   "metadata": {},
   "source": [
    "# 计算每条评论的单词数，创建新列"
   ]
  },
  {
   "cell_type": "code",
   "execution_count": 12,
   "metadata": {
    "execution": {
     "iopub.execute_input": "2022-02-27T14:17:34.530537Z",
     "iopub.status.busy": "2022-02-27T14:17:34.530537Z",
     "iopub.status.idle": "2022-02-27T14:17:34.550537Z",
     "shell.execute_reply": "2022-02-27T14:17:34.549578Z",
     "shell.execute_reply.started": "2022-02-27T14:17:34.530537Z"
    },
    "id": "bM6Pmdqsij3Y",
    "tags": []
   },
   "outputs": [],
   "source": [
    "def compute_review_length(example):\n",
    "    return {\"review_length\": len(example[\"review\"].split())}"
   ]
  },
  {
   "cell_type": "markdown",
   "metadata": {},
   "source": [
    "compute_review_length()返回一个字典，其键与数据集中的任何列都不对应。在这种情况下当compute_review_length()返回值给 Dataset.map()时，它将应用于数据集中的所有行，以创建新的review_length列。"
   ]
  },
  {
   "cell_type": "code",
   "execution_count": 13,
   "metadata": {
    "execution": {
     "iopub.execute_input": "2022-02-27T14:17:35.301403Z",
     "iopub.status.busy": "2022-02-27T14:17:35.301403Z",
     "iopub.status.idle": "2022-02-27T14:17:35.347362Z",
     "shell.execute_reply": "2022-02-27T14:17:35.346400Z",
     "shell.execute_reply.started": "2022-02-27T14:17:35.301403Z"
    },
    "id": "cPPW0eSbij3Z",
    "outputId": "9f950513-b5a9-4694-ac9e-0243c4a57159",
    "tags": []
   },
   "outputs": [
    {
     "name": "stderr",
     "output_type": "stream",
     "text": [
      "Loading cached processed dataset at C:\\Users\\ls\\.cache\\huggingface\\datasets\\csv\\default-a01bd41b65dcc0bc\\0.0.0\\6b9057d9e23d9d8a2f05b985917a0da84d70c5dae3d22ddd8a3f22fb01c69d9e\\cache-53840265db1d8148.arrow\n",
      "Loading cached processed dataset at C:\\Users\\ls\\.cache\\huggingface\\datasets\\csv\\default-a01bd41b65dcc0bc\\0.0.0\\6b9057d9e23d9d8a2f05b985917a0da84d70c5dae3d22ddd8a3f22fb01c69d9e\\cache-79c032691f1a637e.arrow\n"
     ]
    },
    {
     "data": {
      "text/plain": [
       "{'patient_id': 206461,\n",
       " 'drugName': 'Valsartan',\n",
       " 'condition': 'left ventricular dysfunction',\n",
       " 'review': '\"It has no side effect, I take it in combination of Bystolic 5 Mg and Fish Oil\"',\n",
       " 'rating': 9.0,\n",
       " 'date': 'May 20, 2012',\n",
       " 'usefulCount': 27,\n",
       " 'review_length': 17}"
      ]
     },
     "execution_count": 13,
     "metadata": {},
     "output_type": "execute_result"
    }
   ],
   "source": [
    "drug_dataset = drug_dataset.map(compute_review_length)\n",
    "# Inspect the first training example\n",
    "drug_dataset[\"train\"][0]"
   ]
  },
  {
   "cell_type": "markdown",
   "metadata": {},
   "source": [
    "# 按照指定的列排序 sort"
   ]
  },
  {
   "cell_type": "code",
   "execution_count": 14,
   "metadata": {
    "execution": {
     "iopub.execute_input": "2022-02-27T14:17:36.630317Z",
     "iopub.status.busy": "2022-02-27T14:17:36.630317Z",
     "iopub.status.idle": "2022-02-27T14:17:36.647317Z",
     "shell.execute_reply": "2022-02-27T14:17:36.647317Z",
     "shell.execute_reply.started": "2022-02-27T14:17:36.630317Z"
    },
    "id": "rTo8LLf5ij3Z",
    "outputId": "d111cf12-dffb-4a6d-e744-716c3d863fa6",
    "tags": []
   },
   "outputs": [
    {
     "name": "stderr",
     "output_type": "stream",
     "text": [
      "Loading cached sorted indices for dataset at C:\\Users\\ls\\.cache\\huggingface\\datasets\\csv\\default-a01bd41b65dcc0bc\\0.0.0\\6b9057d9e23d9d8a2f05b985917a0da84d70c5dae3d22ddd8a3f22fb01c69d9e\\cache-22258ddd4621bce5.arrow\n"
     ]
    },
    {
     "data": {
      "text/plain": [
       "{'patient_id': [103488, 23627, 20558],\n",
       " 'drugName': ['Loestrin 21 1 / 20', 'Chlorzoxazone', 'Nucynta'],\n",
       " 'condition': ['birth control', 'muscle spasm', 'pain'],\n",
       " 'review': ['\"Excellent.\"', '\"useless\"', '\"ok\"'],\n",
       " 'rating': [10.0, 1.0, 6.0],\n",
       " 'date': ['November 4, 2008', 'March 24, 2017', 'August 20, 2016'],\n",
       " 'usefulCount': [5, 2, 10],\n",
       " 'review_length': [1, 1, 1]}"
      ]
     },
     "execution_count": 14,
     "metadata": {},
     "output_type": "execute_result"
    }
   ],
   "source": [
    "drug_dataset[\"train\"].sort(\"review_length\")[:3]"
   ]
  },
  {
   "cell_type": "markdown",
   "metadata": {},
   "source": [
    "# 过滤掉评论长度<=30的数据 filter"
   ]
  },
  {
   "cell_type": "code",
   "execution_count": 15,
   "metadata": {
    "execution": {
     "iopub.execute_input": "2022-02-27T14:17:37.500667Z",
     "iopub.status.busy": "2022-02-27T14:17:37.499667Z",
     "iopub.status.idle": "2022-02-27T14:17:37.522666Z",
     "shell.execute_reply": "2022-02-27T14:17:37.522666Z",
     "shell.execute_reply.started": "2022-02-27T14:17:37.499667Z"
    },
    "id": "sTDL-ROZij3Z",
    "outputId": "edc23929-51c5-428d-f255-f9bc349b67fe",
    "tags": []
   },
   "outputs": [
    {
     "name": "stderr",
     "output_type": "stream",
     "text": [
      "Loading cached processed dataset at C:\\Users\\ls\\.cache\\huggingface\\datasets\\csv\\default-a01bd41b65dcc0bc\\0.0.0\\6b9057d9e23d9d8a2f05b985917a0da84d70c5dae3d22ddd8a3f22fb01c69d9e\\cache-8111a42f861070fa.arrow\n",
      "Loading cached processed dataset at C:\\Users\\ls\\.cache\\huggingface\\datasets\\csv\\default-a01bd41b65dcc0bc\\0.0.0\\6b9057d9e23d9d8a2f05b985917a0da84d70c5dae3d22ddd8a3f22fb01c69d9e\\cache-d7b64874736838a1.arrow\n"
     ]
    },
    {
     "name": "stdout",
     "output_type": "stream",
     "text": [
      "{'train': 160398, 'test': 53471}\n",
      "{'train': 138514, 'test': 46108}\n"
     ]
    }
   ],
   "source": [
    "print(drug_dataset.num_rows)\n",
    "drug_dataset = drug_dataset.filter(lambda x: x[\"review_length\"] > 30)\n",
    "print(drug_dataset.num_rows)"
   ]
  },
  {
   "cell_type": "markdown",
   "metadata": {},
   "source": [
    "# 处理HTML转义字符"
   ]
  },
  {
   "cell_type": "code",
   "execution_count": 16,
   "metadata": {
    "execution": {
     "iopub.execute_input": "2022-02-27T14:17:38.500616Z",
     "iopub.status.busy": "2022-02-27T14:17:38.500616Z",
     "iopub.status.idle": "2022-02-27T14:17:38.506663Z",
     "shell.execute_reply": "2022-02-27T14:17:38.506663Z",
     "shell.execute_reply.started": "2022-02-27T14:17:38.500616Z"
    },
    "id": "Gx5lsvTPij3a",
    "outputId": "6903663c-fd05-45b2-c524-33e6f4073338",
    "tags": []
   },
   "outputs": [
    {
     "data": {
      "text/plain": [
       "\"I'm a transformer called BERT\""
      ]
     },
     "execution_count": 16,
     "metadata": {},
     "output_type": "execute_result"
    }
   ],
   "source": [
    "import html\n",
    "\n",
    "text = \"I&#039;m a transformer called BERT\"\n",
    "html.unescape(text)"
   ]
  },
  {
   "cell_type": "code",
   "execution_count": 17,
   "metadata": {
    "execution": {
     "iopub.execute_input": "2022-02-27T14:17:39.254484Z",
     "iopub.status.busy": "2022-02-27T14:17:39.254484Z",
     "iopub.status.idle": "2022-02-27T14:17:39.286484Z",
     "shell.execute_reply": "2022-02-27T14:17:39.286484Z",
     "shell.execute_reply.started": "2022-02-27T14:17:39.254484Z"
    },
    "id": "UcdixCHeij3a",
    "tags": []
   },
   "outputs": [
    {
     "name": "stderr",
     "output_type": "stream",
     "text": [
      "Loading cached processed dataset at C:\\Users\\ls\\.cache\\huggingface\\datasets\\csv\\default-a01bd41b65dcc0bc\\0.0.0\\6b9057d9e23d9d8a2f05b985917a0da84d70c5dae3d22ddd8a3f22fb01c69d9e\\cache-d66db6d403a78e6e.arrow\n",
      "Loading cached processed dataset at C:\\Users\\ls\\.cache\\huggingface\\datasets\\csv\\default-a01bd41b65dcc0bc\\0.0.0\\6b9057d9e23d9d8a2f05b985917a0da84d70c5dae3d22ddd8a3f22fb01c69d9e\\cache-76861f18ead11f74.arrow\n"
     ]
    }
   ],
   "source": [
    "drug_dataset = drug_dataset.map(lambda x: {\"review\": html.unescape(x[\"review\"])})"
   ]
  },
  {
   "cell_type": "markdown",
   "metadata": {},
   "source": [
    "# map()方法的加速超能力"
   ]
  },
  {
   "cell_type": "markdown",
   "metadata": {},
   "source": [
    "Dataset.map()方法的batched参数，如果设置为True，则会导致它一次向map函数发送一批数据（批大小可配置，但默认为 1，000）。例如，上一个取消转义所有 HTML 的 map 函数运行了一些时间（您可以从进度条中读取所花费的时间）。我们可以通过使用列表表达式同时处理多个元素来加快速度。"
   ]
  },
  {
   "cell_type": "markdown",
   "metadata": {},
   "source": [
    "**如果指定batched=True，则map应用的函数将接收到包含数据集内容的字典，字典的key是数据集的列名，value是列表，列表长度为batch_size。Dataset.map()的返回值也一样: a dictionary with the fields we want to update or add to our dataset, and a list of values.**"
   ]
  },
  {
   "cell_type": "code",
   "execution_count": 18,
   "metadata": {
    "execution": {
     "iopub.execute_input": "2022-02-27T14:17:41.009607Z",
     "iopub.status.busy": "2022-02-27T14:17:41.009607Z",
     "iopub.status.idle": "2022-02-27T14:17:41.048027Z",
     "shell.execute_reply": "2022-02-27T14:17:41.047027Z",
     "shell.execute_reply.started": "2022-02-27T14:17:41.009607Z"
    },
    "tags": []
   },
   "outputs": [
    {
     "name": "stderr",
     "output_type": "stream",
     "text": [
      "Loading cached processed dataset at C:\\Users\\ls\\.cache\\huggingface\\datasets\\csv\\default-a01bd41b65dcc0bc\\0.0.0\\6b9057d9e23d9d8a2f05b985917a0da84d70c5dae3d22ddd8a3f22fb01c69d9e\\cache-39bcb5ade08da3a7.arrow\n",
      "Loading cached processed dataset at C:\\Users\\ls\\.cache\\huggingface\\datasets\\csv\\default-a01bd41b65dcc0bc\\0.0.0\\6b9057d9e23d9d8a2f05b985917a0da84d70c5dae3d22ddd8a3f22fb01c69d9e\\cache-e4a6a80c90f4fbeb.arrow\n"
     ]
    }
   ],
   "source": [
    "# 因为有了batched=True，匿名函数接收到的数据的value是列表了，不再是单个元素，所以一般需要改写下匿名函数\n",
    "new_drug_dataset = drug_dataset.map(\n",
    "    lambda x: {\"review\": [html.unescape(o) for o in x[\"review\"]]}, batched=True\n",
    ")\n",
    "\n",
    "# 因为unescape()函数能接收单个字符串作为输入，也能接收列表作为输入，所以也可以延用之前的写法\n",
    "# new_drug_dataset = drug_dataset.map(\n",
    "#     lambda x: {\"review\": html.unescape(x[\"review\"])}, batched=True\n",
    "# )"
   ]
  },
  {
   "cell_type": "markdown",
   "metadata": {},
   "source": [
    "## 使用map给分词器提速"
   ]
  },
  {
   "cell_type": "code",
   "execution_count": 19,
   "metadata": {
    "execution": {
     "iopub.execute_input": "2022-02-27T14:17:42.020863Z",
     "iopub.status.busy": "2022-02-27T14:17:42.020863Z",
     "iopub.status.idle": "2022-02-27T14:17:50.445016Z",
     "shell.execute_reply": "2022-02-27T14:17:50.444383Z",
     "shell.execute_reply.started": "2022-02-27T14:17:42.020863Z"
    },
    "id": "44ciA4Uxij3b",
    "tags": []
   },
   "outputs": [],
   "source": [
    "from transformers import AutoTokenizer\n",
    "\n",
    "tokenizer = AutoTokenizer.from_pretrained(\"bert-base-cased\")\n",
    "\n",
    "\n",
    "def tokenize_function(examples):\n",
    "    return tokenizer(examples[\"review\"], truncation=True)"
   ]
  },
  {
   "cell_type": "code",
   "execution_count": 20,
   "metadata": {
    "execution": {
     "iopub.execute_input": "2022-02-27T14:17:51.368992Z",
     "iopub.status.busy": "2022-02-27T14:17:51.368992Z",
     "iopub.status.idle": "2022-02-27T14:17:51.426013Z",
     "shell.execute_reply": "2022-02-27T14:17:51.425010Z",
     "shell.execute_reply.started": "2022-02-27T14:17:51.368992Z"
    },
    "id": "xRYcZ5n2ij3b",
    "tags": []
   },
   "outputs": [
    {
     "name": "stderr",
     "output_type": "stream",
     "text": [
      "Loading cached processed dataset at C:\\Users\\ls\\.cache\\huggingface\\datasets\\csv\\default-a01bd41b65dcc0bc\\0.0.0\\6b9057d9e23d9d8a2f05b985917a0da84d70c5dae3d22ddd8a3f22fb01c69d9e\\cache-87a2aae47092d473.arrow\n",
      "Loading cached processed dataset at C:\\Users\\ls\\.cache\\huggingface\\datasets\\csv\\default-a01bd41b65dcc0bc\\0.0.0\\6b9057d9e23d9d8a2f05b985917a0da84d70c5dae3d22ddd8a3f22fb01c69d9e\\cache-7522c7e127de9f68.arrow\n"
     ]
    },
    {
     "name": "stdout",
     "output_type": "stream",
     "text": [
      "CPU times: total: 62.5 ms\n",
      "Wall time: 49 ms\n"
     ]
    }
   ],
   "source": [
    "%time tokenized_dataset = drug_dataset.map(tokenize_function, batched=True)"
   ]
  },
  {
   "cell_type": "markdown",
   "metadata": {},
   "source": [
    "## 对于Slow tokenizer，batched参数影响不大，可以使用num_proc指定进程数来提速"
   ]
  },
  {
   "cell_type": "markdown",
   "metadata": {},
   "source": [
    "![](https://chushi123.oss-cn-beijing.aliyuncs.com/img/202202271913496.png)"
   ]
  },
  {
   "cell_type": "markdown",
   "metadata": {},
   "source": [
    "# 数据样本一列包含多个特征的情况"
   ]
  },
  {
   "cell_type": "markdown",
   "metadata": {
    "jp-MarkdownHeadingCollapsed": true,
    "tags": []
   },
   "source": [
    "> 在机器学习中，通常数据集的一行数据就是喂给模型的特征。大多数情况下，每一个列就是每一个特征。但是也有另一种情况，一个样本数据的一个列包含多个特征(如question answering)。"
   ]
  },
  {
   "cell_type": "markdown",
   "metadata": {},
   "source": [
    "1. 设置return_overflowing_tokens=True， tokenizer返回的'input_ids'等值可能是一个列表也可能是单个值，不仅会将前128个字符标记结果返回，还会返回剩余字符的标记结果\n",
    "2. 128不是前128个单词,有的单词会被拆成多份，还会加一个特殊符号。不同tokenizer拆法有区别"
   ]
  },
  {
   "cell_type": "code",
   "execution_count": 21,
   "metadata": {
    "execution": {
     "iopub.execute_input": "2022-02-27T14:17:55.637132Z",
     "iopub.status.busy": "2022-02-27T14:17:55.637132Z",
     "iopub.status.idle": "2022-02-27T14:17:55.646132Z",
     "shell.execute_reply": "2022-02-27T14:17:55.645132Z",
     "shell.execute_reply.started": "2022-02-27T14:17:55.637132Z"
    },
    "id": "NIL8Dxluij3b",
    "tags": []
   },
   "outputs": [],
   "source": [
    "# return_overflowing_tokens=True 不仅会将前128个字符标记结果返回，还会返回剩余字符的标记结果\n",
    "# 128不是前128个单词,有的单词会被拆成多份，还会加一个特殊符号。不同tokenizer拆法有区别\n",
    "def tokenize_and_split(examples):\n",
    "    return tokenizer(\n",
    "        examples[\"review\"],\n",
    "        truncation=True,\n",
    "        max_length=128,\n",
    "        return_overflowing_tokens=True,\n",
    "    )"
   ]
  },
  {
   "cell_type": "code",
   "execution_count": 22,
   "metadata": {
    "execution": {
     "iopub.execute_input": "2022-02-27T14:17:56.450445Z",
     "iopub.status.busy": "2022-02-27T14:17:56.450445Z",
     "iopub.status.idle": "2022-02-27T14:17:56.457444Z",
     "shell.execute_reply": "2022-02-27T14:17:56.457444Z",
     "shell.execute_reply.started": "2022-02-27T14:17:56.450445Z"
    },
    "tags": []
   },
   "outputs": [
    {
     "name": "stdout",
     "output_type": "stream",
     "text": [
      "\"My son is halfway through his fourth week of Intuniv. We became concerned when he began this last week, when he started taking the highest dose he will be on. For two days, he could hardly get out of bed, was very cranky, and slept for nearly 8 hours on a drive home from school vacation (very unusual for him.) I called his doctor on Monday morning and she said to stick it out a few days. See how he did at school, and with getting up in the morning. The last two days have been problem free. He is MUCH more agreeable than ever. He is less emotional (a good thing), less cranky. He is remembering all the things he should. Overall his behavior is better. \n",
      "We have tried many different medications and so far this is the most effective.\"\n"
     ]
    }
   ],
   "source": [
    "print(drug_dataset[\"train\"][0][\"review\"])"
   ]
  },
  {
   "cell_type": "code",
   "execution_count": 23,
   "metadata": {
    "execution": {
     "iopub.execute_input": "2022-02-27T14:17:56.881186Z",
     "iopub.status.busy": "2022-02-27T14:17:56.880187Z",
     "iopub.status.idle": "2022-02-27T14:17:56.894072Z",
     "shell.execute_reply": "2022-02-27T14:17:56.894072Z",
     "shell.execute_reply.started": "2022-02-27T14:17:56.880187Z"
    },
    "id": "KA3KZliGij3b",
    "outputId": "da518070-d9eb-4d4f-a24b-20e41d09d824",
    "tags": []
   },
   "outputs": [
    {
     "name": "stdout",
     "output_type": "stream",
     "text": [
      "[CLS] \" My son is halfway through his fourth week of Intuniv. We became concerned when he began this last week, when he started taking the highest dose he will be on. For two days, he could hardly get out of bed, was very cranky, and slept for nearly 8 hours on a drive home from school vacation ( very unusual for him. ) I called his doctor on Monday morning and she said to stick it out a few days. See how he did at school, and with getting up in the morning. The last two days have been problem free. He is MUCH more agreeable than ever [SEP]\n",
      "[CLS]. He is less emotional ( a good thing ), less cranky. He is remembering all the things he should. Overall his behavior is better. We have tried many different medications and so far this is the most effective. \" [SEP]\n"
     ]
    },
    {
     "data": {
      "text/plain": [
       "[128, 49]"
      ]
     },
     "execution_count": 23,
     "metadata": {},
     "output_type": "execute_result"
    }
   ],
   "source": [
    "result = tokenize_and_split(drug_dataset[\"train\"][0])\n",
    "print(tokenizer.decode(result[\"input_ids\"][0]))\n",
    "print(tokenizer.decode(result[\"input_ids\"][1]))\n",
    "[len(inp) for inp in result[\"input_ids\"]]"
   ]
  },
  {
   "cell_type": "code",
   "execution_count": 24,
   "metadata": {
    "execution": {
     "iopub.execute_input": "2022-02-27T14:17:58.223837Z",
     "iopub.status.busy": "2022-02-27T14:17:58.222874Z",
     "iopub.status.idle": "2022-02-27T14:17:58.238960Z",
     "shell.execute_reply": "2022-02-27T14:17:58.238960Z",
     "shell.execute_reply.started": "2022-02-27T14:17:58.223837Z"
    },
    "tags": []
   },
   "outputs": [
    {
     "data": {
      "text/plain": [
       "DatasetDict({\n",
       "    train: Dataset({\n",
       "        features: ['patient_id', 'drugName', 'condition', 'review', 'rating', 'date', 'usefulCount', 'review_length'],\n",
       "        num_rows: 138514\n",
       "    })\n",
       "    test: Dataset({\n",
       "        features: ['patient_id', 'drugName', 'condition', 'review', 'rating', 'date', 'usefulCount', 'review_length'],\n",
       "        num_rows: 46108\n",
       "    })\n",
       "})"
      ]
     },
     "execution_count": 24,
     "metadata": {},
     "output_type": "execute_result"
    }
   ],
   "source": [
    "drug_dataset"
   ]
  },
  {
   "cell_type": "code",
   "execution_count": 25,
   "metadata": {
    "execution": {
     "iopub.execute_input": "2022-02-27T14:17:58.878910Z",
     "iopub.status.busy": "2022-02-27T14:17:58.878910Z",
     "iopub.status.idle": "2022-02-27T14:17:58.896345Z",
     "shell.execute_reply": "2022-02-27T14:17:58.896345Z",
     "shell.execute_reply.started": "2022-02-27T14:17:58.878910Z"
    },
    "id": "WWLtL6rZij3c",
    "outputId": "a917e78e-5184-4476-eace-1061bb1f3871",
    "tags": []
   },
   "outputs": [],
   "source": [
    "# 直接对drug_dataset应用map会报错\n",
    "# tokenized_dataset = drug_dataset.map(tokenize_and_split, batched=True)"
   ]
  },
  {
   "cell_type": "markdown",
   "metadata": {},
   "source": [
    "## 方法1 删除原始数据的所有列"
   ]
  },
  {
   "cell_type": "markdown",
   "metadata": {},
   "source": [
    "The problem is that we’re trying to mix two different datasets of different sizes: the drug_dataset columns will have a certain number of examples (the 1,000 in our error), but the tokenized_dataset we are building will have more (the 1,463 in the error message). That doesn’t work for a Dataset, so we need to either remove the columns from the old dataset or make them the same size as they are in the new dataset. We can do the former with the remove_columns argument:"
   ]
  },
  {
   "cell_type": "code",
   "execution_count": 26,
   "metadata": {
    "execution": {
     "iopub.execute_input": "2022-02-27T14:18:00.053236Z",
     "iopub.status.busy": "2022-02-27T14:18:00.053236Z",
     "iopub.status.idle": "2022-02-27T14:18:00.113235Z",
     "shell.execute_reply": "2022-02-27T14:18:00.112271Z",
     "shell.execute_reply.started": "2022-02-27T14:18:00.053236Z"
    },
    "id": "rFM4yBOFij3c",
    "tags": []
   },
   "outputs": [
    {
     "name": "stderr",
     "output_type": "stream",
     "text": [
      "Loading cached processed dataset at C:\\Users\\ls\\.cache\\huggingface\\datasets\\csv\\default-a01bd41b65dcc0bc\\0.0.0\\6b9057d9e23d9d8a2f05b985917a0da84d70c5dae3d22ddd8a3f22fb01c69d9e\\cache-1a6a4a17f5e08048.arrow\n",
      "Loading cached processed dataset at C:\\Users\\ls\\.cache\\huggingface\\datasets\\csv\\default-a01bd41b65dcc0bc\\0.0.0\\6b9057d9e23d9d8a2f05b985917a0da84d70c5dae3d22ddd8a3f22fb01c69d9e\\cache-b28f1943efb924fb.arrow\n"
     ]
    }
   ],
   "source": [
    "tokenized_dataset = drug_dataset.map(\n",
    "    tokenize_and_split, batched=True, remove_columns=drug_dataset[\"train\"].column_names\n",
    ")"
   ]
  },
  {
   "cell_type": "code",
   "execution_count": 27,
   "metadata": {
    "execution": {
     "iopub.execute_input": "2022-02-27T14:18:00.791048Z",
     "iopub.status.busy": "2022-02-27T14:18:00.790048Z",
     "iopub.status.idle": "2022-02-27T14:18:00.802066Z",
     "shell.execute_reply": "2022-02-27T14:18:00.802066Z",
     "shell.execute_reply.started": "2022-02-27T14:18:00.790048Z"
    },
    "id": "bfcb_mQeij3c",
    "outputId": "65a56f30-1abb-42c1-fc07-0d159116ad9c",
    "tags": []
   },
   "outputs": [
    {
     "data": {
      "text/plain": [
       "(206772, 138514)"
      ]
     },
     "execution_count": 27,
     "metadata": {},
     "output_type": "execute_result"
    }
   ],
   "source": [
    "len(tokenized_dataset[\"train\"]), len(drug_dataset[\"train\"])"
   ]
  },
  {
   "cell_type": "markdown",
   "metadata": {},
   "source": [
    "## 方法2 把原始数据的列重复映射到新数据"
   ]
  },
  {
   "cell_type": "markdown",
   "metadata": {},
   "source": [
    "我们提到我们还可以通过使旧列与新列的大小相同来解决长度不匹配的问题。为此，我们需要设置 return_overflowing_tokens=True 时标记器返回的 overflow_to_sample_mapping 字段。它为我们提供了从新特征索引到其来源样本索引的映射。使用这个，我们可以通过重复每个示例的值与生成新特征一样多次，将原始数据集中存在的每个键与正确大小的值列表相关联："
   ]
  },
  {
   "cell_type": "code",
   "execution_count": 28,
   "metadata": {
    "execution": {
     "iopub.execute_input": "2022-02-27T14:18:02.213411Z",
     "iopub.status.busy": "2022-02-27T14:18:02.213411Z",
     "iopub.status.idle": "2022-02-27T14:18:02.228880Z",
     "shell.execute_reply": "2022-02-27T14:18:02.227879Z",
     "shell.execute_reply.started": "2022-02-27T14:18:02.213411Z"
    },
    "tags": []
   },
   "outputs": [
    {
     "data": {
      "text/plain": [
       "[0, 0, 1, 1, 2, 3, 3, 4, 5, 5]"
      ]
     },
     "execution_count": 28,
     "metadata": {},
     "output_type": "execute_result"
    }
   ],
   "source": [
    "# 查看overflow_to_sample_mapping字段，该字段反映了新特征是来源于原始样本的那个位置(索引）\n",
    "tokenized_dataset[\"train\"][:10][\"overflow_to_sample_mapping\"]"
   ]
  },
  {
   "cell_type": "code",
   "execution_count": 29,
   "metadata": {
    "execution": {
     "iopub.execute_input": "2022-02-27T14:18:02.913269Z",
     "iopub.status.busy": "2022-02-27T14:18:02.913269Z",
     "iopub.status.idle": "2022-02-27T14:18:02.921268Z",
     "shell.execute_reply": "2022-02-27T14:18:02.921268Z",
     "shell.execute_reply.started": "2022-02-27T14:18:02.913269Z"
    },
    "id": "bfzLRlSmij3c",
    "tags": []
   },
   "outputs": [],
   "source": [
    "def tokenize_and_split(examples):\n",
    "    result = tokenizer(\n",
    "        examples[\"review\"],\n",
    "        truncation=True,\n",
    "        max_length=128,\n",
    "        return_overflowing_tokens=True,\n",
    "    )\n",
    "    # Extract mapping between new and old indices\n",
    "    sample_map = result.pop(\"overflow_to_sample_mapping\")\n",
    "    for key, values in examples.items():\n",
    "        result[key] = [values[i] for i in sample_map]\n",
    "    return result"
   ]
  },
  {
   "cell_type": "code",
   "execution_count": 30,
   "metadata": {
    "execution": {
     "iopub.execute_input": "2022-02-27T14:18:03.266140Z",
     "iopub.status.busy": "2022-02-27T14:18:03.265140Z",
     "iopub.status.idle": "2022-02-27T14:18:03.348140Z",
     "shell.execute_reply": "2022-02-27T14:18:03.348140Z",
     "shell.execute_reply.started": "2022-02-27T14:18:03.266140Z"
    },
    "id": "-9Ee7cHLij3d",
    "outputId": "89b32801-1202-4805-bc0d-5b9042a1b920",
    "tags": []
   },
   "outputs": [
    {
     "name": "stderr",
     "output_type": "stream",
     "text": [
      "Loading cached processed dataset at C:\\Users\\ls\\.cache\\huggingface\\datasets\\csv\\default-a01bd41b65dcc0bc\\0.0.0\\6b9057d9e23d9d8a2f05b985917a0da84d70c5dae3d22ddd8a3f22fb01c69d9e\\cache-56a17f2bb358609c.arrow\n",
      "Loading cached processed dataset at C:\\Users\\ls\\.cache\\huggingface\\datasets\\csv\\default-a01bd41b65dcc0bc\\0.0.0\\6b9057d9e23d9d8a2f05b985917a0da84d70c5dae3d22ddd8a3f22fb01c69d9e\\cache-d0cb0cbdf07349fd.arrow\n"
     ]
    },
    {
     "data": {
      "text/plain": [
       "DatasetDict({\n",
       "    train: Dataset({\n",
       "        features: ['patient_id', 'drugName', 'condition', 'review', 'rating', 'date', 'usefulCount', 'review_length', 'input_ids', 'token_type_ids', 'attention_mask'],\n",
       "        num_rows: 206772\n",
       "    })\n",
       "    test: Dataset({\n",
       "        features: ['patient_id', 'drugName', 'condition', 'review', 'rating', 'date', 'usefulCount', 'review_length', 'input_ids', 'token_type_ids', 'attention_mask'],\n",
       "        num_rows: 68876\n",
       "    })\n",
       "})"
      ]
     },
     "execution_count": 30,
     "metadata": {},
     "output_type": "execute_result"
    }
   ],
   "source": [
    "tokenized_dataset = drug_dataset.map(tokenize_and_split, batched=True)\n",
    "tokenized_dataset"
   ]
  },
  {
   "cell_type": "markdown",
   "metadata": {},
   "source": [
    "# 改变数据集的输出格式 set_format"
   ]
  },
  {
   "cell_type": "markdown",
   "metadata": {},
   "source": [
    "## 转换为pandas的数据类型"
   ]
  },
  {
   "cell_type": "markdown",
   "metadata": {},
   "source": [
    "![](https://chushi123.oss-cn-beijing.aliyuncs.com/img/202202272157010.png)"
   ]
  },
  {
   "cell_type": "code",
   "execution_count": 31,
   "metadata": {
    "execution": {
     "iopub.execute_input": "2022-02-27T14:18:05.350736Z",
     "iopub.status.busy": "2022-02-27T14:18:05.349732Z",
     "iopub.status.idle": "2022-02-27T14:18:05.360823Z",
     "shell.execute_reply": "2022-02-27T14:18:05.359913Z",
     "shell.execute_reply.started": "2022-02-27T14:18:05.350736Z"
    },
    "id": "O0rFE3Ifij3d",
    "tags": []
   },
   "outputs": [],
   "source": [
    "drug_dataset.set_format(\"pandas\")"
   ]
  },
  {
   "cell_type": "code",
   "execution_count": 32,
   "metadata": {
    "execution": {
     "iopub.execute_input": "2022-02-27T14:18:05.693297Z",
     "iopub.status.busy": "2022-02-27T14:18:05.692331Z",
     "iopub.status.idle": "2022-02-27T14:18:05.720309Z",
     "shell.execute_reply": "2022-02-27T14:18:05.720309Z",
     "shell.execute_reply.started": "2022-02-27T14:18:05.693297Z"
    },
    "id": "5Ca5l-yEij3d",
    "tags": []
   },
   "outputs": [
    {
     "data": {
      "text/html": [
       "<div>\n",
       "<style scoped>\n",
       "    .dataframe tbody tr th:only-of-type {\n",
       "        vertical-align: middle;\n",
       "    }\n",
       "\n",
       "    .dataframe tbody tr th {\n",
       "        vertical-align: top;\n",
       "    }\n",
       "\n",
       "    .dataframe thead th {\n",
       "        text-align: right;\n",
       "    }\n",
       "</style>\n",
       "<table border=\"1\" class=\"dataframe\">\n",
       "  <thead>\n",
       "    <tr style=\"text-align: right;\">\n",
       "      <th></th>\n",
       "      <th>patient_id</th>\n",
       "      <th>drugName</th>\n",
       "      <th>condition</th>\n",
       "      <th>review</th>\n",
       "      <th>rating</th>\n",
       "      <th>date</th>\n",
       "      <th>usefulCount</th>\n",
       "      <th>review_length</th>\n",
       "    </tr>\n",
       "  </thead>\n",
       "  <tbody>\n",
       "    <tr>\n",
       "      <th>0</th>\n",
       "      <td>95260</td>\n",
       "      <td>Guanfacine</td>\n",
       "      <td>adhd</td>\n",
       "      <td>\"My son is halfway through his fourth week of ...</td>\n",
       "      <td>8.0</td>\n",
       "      <td>April 27, 2010</td>\n",
       "      <td>192</td>\n",
       "      <td>141</td>\n",
       "    </tr>\n",
       "    <tr>\n",
       "      <th>1</th>\n",
       "      <td>92703</td>\n",
       "      <td>Lybrel</td>\n",
       "      <td>birth control</td>\n",
       "      <td>\"I used to take another oral contraceptive, wh...</td>\n",
       "      <td>5.0</td>\n",
       "      <td>December 14, 2009</td>\n",
       "      <td>17</td>\n",
       "      <td>134</td>\n",
       "    </tr>\n",
       "    <tr>\n",
       "      <th>2</th>\n",
       "      <td>138000</td>\n",
       "      <td>Ortho Evra</td>\n",
       "      <td>birth control</td>\n",
       "      <td>\"This is my first time using any form of birth...</td>\n",
       "      <td>8.0</td>\n",
       "      <td>November 3, 2015</td>\n",
       "      <td>10</td>\n",
       "      <td>89</td>\n",
       "    </tr>\n",
       "  </tbody>\n",
       "</table>\n",
       "</div>"
      ],
      "text/plain": [
       "   patient_id    drugName      condition  \\\n",
       "0       95260  Guanfacine           adhd   \n",
       "1       92703      Lybrel  birth control   \n",
       "2      138000  Ortho Evra  birth control   \n",
       "\n",
       "                                              review  rating  \\\n",
       "0  \"My son is halfway through his fourth week of ...     8.0   \n",
       "1  \"I used to take another oral contraceptive, wh...     5.0   \n",
       "2  \"This is my first time using any form of birth...     8.0   \n",
       "\n",
       "                date  usefulCount  review_length  \n",
       "0     April 27, 2010          192            141  \n",
       "1  December 14, 2009           17            134  \n",
       "2   November 3, 2015           10             89  "
      ]
     },
     "execution_count": 32,
     "metadata": {},
     "output_type": "execute_result"
    }
   ],
   "source": [
    "drug_dataset[\"train\"][:3]"
   ]
  },
  {
   "cell_type": "code",
   "execution_count": 33,
   "metadata": {
    "execution": {
     "iopub.execute_input": "2022-02-27T14:18:06.343465Z",
     "iopub.status.busy": "2022-02-27T14:18:06.342467Z",
     "iopub.status.idle": "2022-02-27T14:18:06.487574Z",
     "shell.execute_reply": "2022-02-27T14:18:06.487574Z",
     "shell.execute_reply.started": "2022-02-27T14:18:06.343465Z"
    },
    "id": "MabZlmYYij3d",
    "tags": []
   },
   "outputs": [],
   "source": [
    "train_df = drug_dataset[\"train\"][:]"
   ]
  },
  {
   "cell_type": "code",
   "execution_count": 34,
   "metadata": {
    "execution": {
     "iopub.execute_input": "2022-02-27T14:18:06.774757Z",
     "iopub.status.busy": "2022-02-27T14:18:06.774757Z",
     "iopub.status.idle": "2022-02-27T14:18:06.797740Z",
     "shell.execute_reply": "2022-02-27T14:18:06.797740Z",
     "shell.execute_reply.started": "2022-02-27T14:18:06.774757Z"
    },
    "id": "oaTlqm30ij3d",
    "tags": []
   },
   "outputs": [
    {
     "data": {
      "text/html": [
       "<div>\n",
       "<style scoped>\n",
       "    .dataframe tbody tr th:only-of-type {\n",
       "        vertical-align: middle;\n",
       "    }\n",
       "\n",
       "    .dataframe tbody tr th {\n",
       "        vertical-align: top;\n",
       "    }\n",
       "\n",
       "    .dataframe thead th {\n",
       "        text-align: right;\n",
       "    }\n",
       "</style>\n",
       "<table border=\"1\" class=\"dataframe\">\n",
       "  <thead>\n",
       "    <tr style=\"text-align: right;\">\n",
       "      <th></th>\n",
       "      <th>condition</th>\n",
       "      <th>frequency</th>\n",
       "    </tr>\n",
       "  </thead>\n",
       "  <tbody>\n",
       "    <tr>\n",
       "      <th>0</th>\n",
       "      <td>birth control</td>\n",
       "      <td>27655</td>\n",
       "    </tr>\n",
       "    <tr>\n",
       "      <th>1</th>\n",
       "      <td>depression</td>\n",
       "      <td>8023</td>\n",
       "    </tr>\n",
       "    <tr>\n",
       "      <th>2</th>\n",
       "      <td>acne</td>\n",
       "      <td>5209</td>\n",
       "    </tr>\n",
       "    <tr>\n",
       "      <th>3</th>\n",
       "      <td>anxiety</td>\n",
       "      <td>4991</td>\n",
       "    </tr>\n",
       "    <tr>\n",
       "      <th>4</th>\n",
       "      <td>pain</td>\n",
       "      <td>4744</td>\n",
       "    </tr>\n",
       "  </tbody>\n",
       "</table>\n",
       "</div>"
      ],
      "text/plain": [
       "       condition  frequency\n",
       "0  birth control      27655\n",
       "1     depression       8023\n",
       "2           acne       5209\n",
       "3        anxiety       4991\n",
       "4           pain       4744"
      ]
     },
     "execution_count": 34,
     "metadata": {},
     "output_type": "execute_result"
    }
   ],
   "source": [
    "frequencies = (\n",
    "    train_df[\"condition\"]\n",
    "    .value_counts()\n",
    "    .to_frame()\n",
    "    .reset_index()\n",
    "    .rename(columns={\"index\": \"condition\", \"condition\": \"frequency\"})\n",
    ")\n",
    "frequencies.head()"
   ]
  },
  {
   "cell_type": "markdown",
   "metadata": {},
   "source": [
    "# 从pandas数据类型生成datasets数据类型Arrow"
   ]
  },
  {
   "cell_type": "code",
   "execution_count": 35,
   "metadata": {
    "execution": {
     "iopub.execute_input": "2022-02-27T14:18:07.628206Z",
     "iopub.status.busy": "2022-02-27T14:18:07.628206Z",
     "iopub.status.idle": "2022-02-27T14:18:07.637205Z",
     "shell.execute_reply": "2022-02-27T14:18:07.637137Z",
     "shell.execute_reply.started": "2022-02-27T14:18:07.628206Z"
    },
    "id": "bcK1yhz7ij3e",
    "outputId": "b1121c9d-dc2c-4cc0-96a5-3353fb743645",
    "tags": []
   },
   "outputs": [
    {
     "data": {
      "text/plain": [
       "Dataset({\n",
       "    features: ['condition', 'frequency'],\n",
       "    num_rows: 819\n",
       "})"
      ]
     },
     "execution_count": 35,
     "metadata": {},
     "output_type": "execute_result"
    }
   ],
   "source": [
    "from datasets import Dataset\n",
    "\n",
    "freq_dataset = Dataset.from_pandas(frequencies)\n",
    "freq_dataset"
   ]
  },
  {
   "cell_type": "code",
   "execution_count": 36,
   "metadata": {
    "execution": {
     "iopub.execute_input": "2022-02-27T14:18:08.049983Z",
     "iopub.status.busy": "2022-02-27T14:18:08.049983Z",
     "iopub.status.idle": "2022-02-27T14:18:08.055983Z",
     "shell.execute_reply": "2022-02-27T14:18:08.055983Z",
     "shell.execute_reply.started": "2022-02-27T14:18:08.049983Z"
    },
    "id": "4XzhNMnJij3e",
    "tags": []
   },
   "outputs": [],
   "source": [
    "# 把drug_dateset的数据类型恢复回datasets类型Arrow\n",
    "drug_dataset.reset_format()"
   ]
  },
  {
   "cell_type": "markdown",
   "metadata": {},
   "source": [
    "# 从训练集划分出训练集，验证集 train_test_split"
   ]
  },
  {
   "cell_type": "code",
   "execution_count": 37,
   "metadata": {
    "execution": {
     "iopub.execute_input": "2022-02-27T14:18:08.895427Z",
     "iopub.status.busy": "2022-02-27T14:18:08.895427Z",
     "iopub.status.idle": "2022-02-27T14:18:08.932486Z",
     "shell.execute_reply": "2022-02-27T14:18:08.931530Z",
     "shell.execute_reply.started": "2022-02-27T14:18:08.895427Z"
    },
    "id": "qFrd_F7Tij3e",
    "outputId": "359aff7f-a4c4-43dd-f32a-a5cfe834559e",
    "tags": []
   },
   "outputs": [
    {
     "data": {
      "text/plain": [
       "DatasetDict({\n",
       "    train: Dataset({\n",
       "        features: ['patient_id', 'drugName', 'condition', 'review', 'rating', 'date', 'usefulCount', 'review_length'],\n",
       "        num_rows: 110811\n",
       "    })\n",
       "    validation: Dataset({\n",
       "        features: ['patient_id', 'drugName', 'condition', 'review', 'rating', 'date', 'usefulCount', 'review_length'],\n",
       "        num_rows: 27703\n",
       "    })\n",
       "    test: Dataset({\n",
       "        features: ['patient_id', 'drugName', 'condition', 'review', 'rating', 'date', 'usefulCount', 'review_length'],\n",
       "        num_rows: 46108\n",
       "    })\n",
       "})"
      ]
     },
     "execution_count": 37,
     "metadata": {},
     "output_type": "execute_result"
    }
   ],
   "source": [
    "drug_dataset_clean = drug_dataset[\"train\"].train_test_split(train_size=0.8, seed=42)\n",
    "# Rename the default \"test\" split to \"validation\"\n",
    "drug_dataset_clean[\"validation\"] = drug_dataset_clean.pop(\"test\")\n",
    "# Add the \"test\" set to our `DatasetDict`\n",
    "drug_dataset_clean[\"test\"] = drug_dataset[\"test\"]\n",
    "drug_dataset_clean"
   ]
  },
  {
   "cell_type": "markdown",
   "metadata": {},
   "source": [
    "# 保存数据到硬盘"
   ]
  },
  {
   "cell_type": "markdown",
   "metadata": {},
   "source": [
    "![](https://chushi123.oss-cn-beijing.aliyuncs.com/img/202202272209854.png)"
   ]
  },
  {
   "cell_type": "markdown",
   "metadata": {},
   "source": [
    "## 保存为Arrow格式"
   ]
  },
  {
   "cell_type": "code",
   "execution_count": 38,
   "metadata": {
    "execution": {
     "iopub.execute_input": "2022-02-27T14:18:10.743540Z",
     "iopub.status.busy": "2022-02-27T14:18:10.743540Z",
     "iopub.status.idle": "2022-02-27T14:18:14.586867Z",
     "shell.execute_reply": "2022-02-27T14:18:14.585913Z",
     "shell.execute_reply.started": "2022-02-27T14:18:10.743540Z"
    },
    "id": "YW2S9vJ6ij3e",
    "tags": []
   },
   "outputs": [
    {
     "data": {
      "application/vnd.jupyter.widget-view+json": {
       "model_id": "37de3201f3a14ee4a723b7e5b5d99acc",
       "version_major": 2,
       "version_minor": 0
      },
      "text/plain": [
       "Flattening the indices:   0%|          | 0/111 [00:00<?, ?ba/s]"
      ]
     },
     "metadata": {},
     "output_type": "display_data"
    },
    {
     "data": {
      "application/vnd.jupyter.widget-view+json": {
       "model_id": "127038ea824b4a53b7964640d448f05f",
       "version_major": 2,
       "version_minor": 0
      },
      "text/plain": [
       "Flattening the indices:   0%|          | 0/28 [00:00<?, ?ba/s]"
      ]
     },
     "metadata": {},
     "output_type": "display_data"
    }
   ],
   "source": [
    "drug_dataset_clean.save_to_disk(\"drug-reviews\")"
   ]
  },
  {
   "cell_type": "markdown",
   "metadata": {},
   "source": [
    "## 加载保存的Arrow格式数据集"
   ]
  },
  {
   "cell_type": "code",
   "execution_count": 39,
   "metadata": {
    "execution": {
     "iopub.execute_input": "2022-02-27T14:18:16.122974Z",
     "iopub.status.busy": "2022-02-27T14:18:16.122974Z",
     "iopub.status.idle": "2022-02-27T14:18:16.162976Z",
     "shell.execute_reply": "2022-02-27T14:18:16.162009Z",
     "shell.execute_reply.started": "2022-02-27T14:18:16.122974Z"
    },
    "id": "DwAjzlf8ij3f",
    "outputId": "ce5ae152-8340-4469-e742-feac3eb82e8b",
    "tags": []
   },
   "outputs": [
    {
     "data": {
      "text/plain": [
       "DatasetDict({\n",
       "    train: Dataset({\n",
       "        features: ['patient_id', 'drugName', 'condition', 'review', 'rating', 'date', 'usefulCount', 'review_length'],\n",
       "        num_rows: 110811\n",
       "    })\n",
       "    validation: Dataset({\n",
       "        features: ['patient_id', 'drugName', 'condition', 'review', 'rating', 'date', 'usefulCount', 'review_length'],\n",
       "        num_rows: 27703\n",
       "    })\n",
       "    test: Dataset({\n",
       "        features: ['patient_id', 'drugName', 'condition', 'review', 'rating', 'date', 'usefulCount', 'review_length'],\n",
       "        num_rows: 46108\n",
       "    })\n",
       "})"
      ]
     },
     "execution_count": 39,
     "metadata": {},
     "output_type": "execute_result"
    }
   ],
   "source": [
    "from datasets import load_from_disk\n",
    "\n",
    "drug_dataset_reloaded = load_from_disk(\"drug-reviews\")\n",
    "drug_dataset_reloaded"
   ]
  },
  {
   "cell_type": "markdown",
   "metadata": {},
   "source": [
    "## 保存为csv json jsonl文件"
   ]
  },
  {
   "cell_type": "markdown",
   "metadata": {},
   "source": [
    "对于 CSV 和 JSON 格式，我们必须将每个拆分存储为单独的文件。一种方法是遍历DatasetDict对象中的键和值："
   ]
  },
  {
   "cell_type": "code",
   "execution_count": 40,
   "metadata": {
    "execution": {
     "iopub.execute_input": "2022-02-27T14:18:17.636904Z",
     "iopub.status.busy": "2022-02-27T14:18:17.636904Z",
     "iopub.status.idle": "2022-02-27T14:18:20.084393Z",
     "shell.execute_reply": "2022-02-27T14:18:20.083975Z",
     "shell.execute_reply.started": "2022-02-27T14:18:17.636904Z"
    },
    "id": "4Gyw9dbvij3f",
    "tags": []
   },
   "outputs": [
    {
     "data": {
      "application/vnd.jupyter.widget-view+json": {
       "model_id": "a9cedcd33c76472c8ca797b927c8242d",
       "version_major": 2,
       "version_minor": 0
      },
      "text/plain": [
       "Creating json from Arrow format:   0%|          | 0/12 [00:00<?, ?ba/s]"
      ]
     },
     "metadata": {},
     "output_type": "display_data"
    },
    {
     "data": {
      "application/vnd.jupyter.widget-view+json": {
       "model_id": "72743348f83948079dd78ce4be252c35",
       "version_major": 2,
       "version_minor": 0
      },
      "text/plain": [
       "Creating json from Arrow format:   0%|          | 0/3 [00:00<?, ?ba/s]"
      ]
     },
     "metadata": {},
     "output_type": "display_data"
    },
    {
     "data": {
      "application/vnd.jupyter.widget-view+json": {
       "model_id": "13ae5f60717747739dcfbe424e7594e4",
       "version_major": 2,
       "version_minor": 0
      },
      "text/plain": [
       "Creating json from Arrow format:   0%|          | 0/5 [00:00<?, ?ba/s]"
      ]
     },
     "metadata": {},
     "output_type": "display_data"
    }
   ],
   "source": [
    "for split, dataset in drug_dataset_clean.items():\n",
    "    dataset.to_json(f\"drug-reviews-{split}.jsonl\")"
   ]
  },
  {
   "cell_type": "code",
   "execution_count": 41,
   "metadata": {
    "execution": {
     "iopub.execute_input": "2022-02-27T14:18:20.951295Z",
     "iopub.status.busy": "2022-02-27T14:18:20.950294Z",
     "iopub.status.idle": "2022-02-27T14:18:21.036399Z",
     "shell.execute_reply": "2022-02-27T14:18:21.036399Z",
     "shell.execute_reply.started": "2022-02-27T14:18:20.951295Z"
    },
    "id": "hEMzmKkKij3f",
    "outputId": "bb807114-4a18-4284-a582-fbe9321efa68",
    "tags": []
   },
   "outputs": [
    {
     "name": "stdout",
     "output_type": "stream",
     "text": [
      "{\"patient_id\":89879,\"drugName\":\"Cyclosporine\",\"condition\":\"keratoconjunctivitis sicca\",\"review\":\"\\\"I have used Restasis for about a year now and have seen almost no progress.  For most of my life I've had red and bothersome eyes. After trying various eye drops, my doctor recommended Restasis.  He said it typically takes 3 to 6 months for it to really kick in but it never did kick in.  When I put the drops in it burns my eyes for the first 30 - 40 minutes.  I've talked with my doctor about this and he said it is normal but should go away after some time, but it hasn't. Every year around spring time my eyes get terrible irritated  and this year has been the same (maybe even worse than other years) even though I've been using Restasis for a year now. The only difference I notice was for the first couple weeks, but now I'm ready to move on.\\\"\",\"rating\":2.0,\"date\":\"April 20, 2013\",\"usefulCount\":69,\"review_length\":147}\n"
     ]
    }
   ],
   "source": [
    "!head -n 1 drug-reviews-train.jsonl"
   ]
  },
  {
   "cell_type": "markdown",
   "metadata": {},
   "source": [
    "![](https://chushi123.oss-cn-beijing.aliyuncs.com/img/202202272214356.png)"
   ]
  },
  {
   "cell_type": "markdown",
   "metadata": {
    "execution": {
     "iopub.execute_input": "2022-02-27T14:08:11.483820Z",
     "iopub.status.busy": "2022-02-27T14:08:11.483820Z",
     "iopub.status.idle": "2022-02-27T14:08:11.494833Z",
     "shell.execute_reply": "2022-02-27T14:08:11.494833Z",
     "shell.execute_reply.started": "2022-02-27T14:08:11.483820Z"
    }
   },
   "source": [
    "## 加载保存的jsonl格式数据集"
   ]
  },
  {
   "cell_type": "code",
   "execution_count": 42,
   "metadata": {
    "execution": {
     "iopub.execute_input": "2022-02-27T14:18:22.933583Z",
     "iopub.status.busy": "2022-02-27T14:18:22.933583Z",
     "iopub.status.idle": "2022-02-27T14:18:24.802995Z",
     "shell.execute_reply": "2022-02-27T14:18:24.801999Z",
     "shell.execute_reply.started": "2022-02-27T14:18:22.933583Z"
    },
    "id": "oy7myx_oij3f",
    "tags": []
   },
   "outputs": [
    {
     "name": "stderr",
     "output_type": "stream",
     "text": [
      "Using custom data configuration default-4addb53bcc56e45e\n"
     ]
    },
    {
     "name": "stdout",
     "output_type": "stream",
     "text": [
      "Downloading and preparing dataset json/default to C:\\Users\\ls\\.cache\\huggingface\\datasets\\json\\default-4addb53bcc56e45e\\0.0.0\\ac0ca5f5289a6cf108e706efcf040422dbbfa8e658dee6a819f20d76bb84d26b...\n"
     ]
    },
    {
     "data": {
      "application/vnd.jupyter.widget-view+json": {
       "model_id": "09f498d34e7e4979ba6cd19c60d696d5",
       "version_major": 2,
       "version_minor": 0
      },
      "text/plain": [
       "  0%|          | 0/3 [00:00<?, ?it/s]"
      ]
     },
     "metadata": {},
     "output_type": "display_data"
    },
    {
     "data": {
      "application/vnd.jupyter.widget-view+json": {
       "model_id": "136c069bfaf049869099d28691cee8ed",
       "version_major": 2,
       "version_minor": 0
      },
      "text/plain": [
       "  0%|          | 0/3 [00:00<?, ?it/s]"
      ]
     },
     "metadata": {},
     "output_type": "display_data"
    },
    {
     "name": "stdout",
     "output_type": "stream",
     "text": [
      "Dataset json downloaded and prepared to C:\\Users\\ls\\.cache\\huggingface\\datasets\\json\\default-4addb53bcc56e45e\\0.0.0\\ac0ca5f5289a6cf108e706efcf040422dbbfa8e658dee6a819f20d76bb84d26b. Subsequent calls will reuse this data.\n"
     ]
    },
    {
     "data": {
      "application/vnd.jupyter.widget-view+json": {
       "model_id": "622cdc80f44b49628c312b6a673e7292",
       "version_major": 2,
       "version_minor": 0
      },
      "text/plain": [
       "  0%|          | 0/3 [00:00<?, ?it/s]"
      ]
     },
     "metadata": {},
     "output_type": "display_data"
    }
   ],
   "source": [
    "data_files = {\n",
    "    \"train\": \"drug-reviews-train.jsonl\",\n",
    "    \"validation\": \"drug-reviews-validation.jsonl\",\n",
    "    \"test\": \"drug-reviews-test.jsonl\",\n",
    "}\n",
    "drug_dataset_reloaded = load_dataset(\"json\", data_files=data_files)"
   ]
  },
  {
   "cell_type": "markdown",
   "metadata": {},
   "source": [
    "# 补充知识"
   ]
  },
  {
   "cell_type": "markdown",
   "metadata": {},
   "source": [
    "## 从数据集中划分出训练集和测试集 train_test_split"
   ]
  },
  {
   "cell_type": "markdown",
   "metadata": {},
   "source": [
    "![](https://chushi123.oss-cn-beijing.aliyuncs.com/img/202202271335259.png)"
   ]
  },
  {
   "cell_type": "markdown",
   "metadata": {
    "tags": []
   },
   "source": [
    "## 展开数据 flatten"
   ]
  },
  {
   "cell_type": "markdown",
   "metadata": {},
   "source": [
    "将answers下的text和answer_start字段展开"
   ]
  },
  {
   "cell_type": "markdown",
   "metadata": {},
   "source": [
    "![](https://chushi123.oss-cn-beijing.aliyuncs.com/img/202202271339390.png)"
   ]
  },
  {
   "cell_type": "markdown",
   "metadata": {},
   "source": [
    "![](https://chushi123.oss-cn-beijing.aliyuncs.com/img/202202271338890.png)"
   ]
  },
  {
   "cell_type": "code",
   "execution_count": null,
   "metadata": {},
   "outputs": [],
   "source": []
  }
 ],
 "metadata": {
  "colab": {
   "name": "Time to slice and dice",
   "provenance": []
  },
  "kernelspec": {
   "display_name": "Python 3 (ipykernel)",
   "language": "python",
   "name": "python3"
  },
  "language_info": {
   "codemirror_mode": {
    "name": "ipython",
    "version": 3
   },
   "file_extension": ".py",
   "mimetype": "text/x-python",
   "name": "python",
   "nbconvert_exporter": "python",
   "pygments_lexer": "ipython3",
   "version": "3.8.12"
  },
  "toc-autonumbering": true
 },
 "nbformat": 4,
 "nbformat_minor": 4
}
