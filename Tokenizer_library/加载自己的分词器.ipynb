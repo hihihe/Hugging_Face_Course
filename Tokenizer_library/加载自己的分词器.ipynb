{
 "cells": [
  {
   "cell_type": "code",
   "execution_count": 2,
   "id": "5c664fb6-4cf0-44c6-a268-84114730a515",
   "metadata": {
    "execution": {
     "iopub.execute_input": "2022-03-02T09:09:48.078802Z",
     "iopub.status.busy": "2022-03-02T09:09:48.078802Z",
     "iopub.status.idle": "2022-03-02T09:09:52.770328Z",
     "shell.execute_reply": "2022-03-02T09:09:52.770328Z",
     "shell.execute_reply.started": "2022-03-02T09:09:48.078802Z"
    },
    "tags": []
   },
   "outputs": [],
   "source": [
    "from transformers import AutoTokenizer\n",
    "\n",
    "tokenizer = AutoTokenizer.from_pretrained(\"./code-search-net-tokenizer\")"
   ]
  },
  {
   "cell_type": "code",
   "execution_count": 3,
   "id": "33348aae-5ccd-401f-a734-1d5df354f27f",
   "metadata": {
    "execution": {
     "iopub.execute_input": "2022-03-02T09:10:13.288582Z",
     "iopub.status.busy": "2022-03-02T09:10:13.287585Z",
     "iopub.status.idle": "2022-03-02T09:10:13.334783Z",
     "shell.execute_reply": "2022-03-02T09:10:13.334783Z",
     "shell.execute_reply.started": "2022-03-02T09:10:13.288582Z"
    }
   },
   "outputs": [
    {
     "data": {
      "text/plain": [
       "['def',\n",
       " 'Ġadd',\n",
       " '_',\n",
       " 'numbers',\n",
       " '(',\n",
       " 'a',\n",
       " ',',\n",
       " 'Ġb',\n",
       " '):',\n",
       " 'ĊĠĠĠ',\n",
       " 'Ġ\"\"\"',\n",
       " 'Add',\n",
       " 'Ġthe',\n",
       " 'Ġtwo',\n",
       " 'Ġnumbers',\n",
       " 'Ġ`',\n",
       " 'a',\n",
       " '`',\n",
       " 'Ġand',\n",
       " 'Ġ`',\n",
       " 'b',\n",
       " '`.\"\"\"',\n",
       " 'ĊĠĠĠ',\n",
       " 'Ġreturn',\n",
       " 'Ġa',\n",
       " 'Ġ+',\n",
       " 'Ġb']"
      ]
     },
     "execution_count": 3,
     "metadata": {},
     "output_type": "execute_result"
    }
   ],
   "source": [
    "example = '''def add_numbers(a, b):\n",
    "    \"\"\"Add the two numbers `a` and `b`.\"\"\"\n",
    "    return a + b'''\n",
    "\n",
    "tokenizer.tokenize(example)"
   ]
  },
  {
   "cell_type": "code",
   "execution_count": null,
   "id": "c49fa27a-80ac-4df1-a0ea-26bb6e692382",
   "metadata": {},
   "outputs": [],
   "source": []
  }
 ],
 "metadata": {
  "kernelspec": {
   "display_name": "Python 3 (ipykernel)",
   "language": "python",
   "name": "python3"
  },
  "language_info": {
   "codemirror_mode": {
    "name": "ipython",
    "version": 3
   },
   "file_extension": ".py",
   "mimetype": "text/x-python",
   "name": "python",
   "nbconvert_exporter": "python",
   "pygments_lexer": "ipython3",
   "version": "3.8.12"
  }
 },
 "nbformat": 4,
 "nbformat_minor": 5
}
